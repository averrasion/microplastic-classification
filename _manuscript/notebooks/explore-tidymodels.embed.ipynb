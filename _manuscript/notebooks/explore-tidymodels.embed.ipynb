{
 "cells": [
  {
   "cell_type": "markdown",
   "metadata": {},
   "source": [
    "# Exploration using Tidymodels\n",
    "\n",
    "Load the `tidymodels` library along with other useful ones:"
   ],
   "id": "e2d08c0a-3a6c-4670-ab6d-07f705f02b4a"
  },
  {
   "cell_type": "code",
   "execution_count": null,
   "metadata": {},
   "outputs": [
    {
     "output_type": "stream",
     "name": "stderr",
     "text": [
      "── Attaching packages ────────────────────────────────────── tidymodels 1.3.0 ──"
     ]
    },
    {
     "output_type": "stream",
     "name": "stderr",
     "text": [
      "✔ broom        1.0.8     ✔ recipes      1.3.0\n",
      "✔ dials        1.4.0     ✔ rsample      1.3.0\n",
      "✔ dplyr        1.1.4     ✔ tibble       3.2.1\n",
      "✔ ggplot2      3.5.2     ✔ tidyr        1.3.1\n",
      "✔ infer        1.0.8     ✔ tune         1.3.0\n",
      "✔ modeldata    1.4.0     ✔ workflows    1.2.0\n",
      "✔ parsnip      1.3.1     ✔ workflowsets 1.1.0\n",
      "✔ purrr        1.0.4     ✔ yardstick    1.3.2"
     ]
    },
    {
     "output_type": "stream",
     "name": "stderr",
     "text": [
      "── Conflicts ───────────────────────────────────────── tidymodels_conflicts() ──\n",
      "✖ purrr::discard() masks scales::discard()\n",
      "✖ dplyr::filter()  masks stats::filter()\n",
      "✖ dplyr::lag()     masks stats::lag()\n",
      "✖ recipes::step()  masks stats::step()"
     ]
    },
    {
     "output_type": "stream",
     "name": "stderr",
     "text": [
      "\n",
      "Attaching package: 'readr'"
     ]
    },
    {
     "output_type": "stream",
     "name": "stderr",
     "text": [
      "The following object is masked from 'package:yardstick':\n",
      "\n",
      "    spec"
     ]
    },
    {
     "output_type": "stream",
     "name": "stderr",
     "text": [
      "The following object is masked from 'package:scales':\n",
      "\n",
      "    col_factor"
     ]
    }
   ],
   "source": [
    "#| warning: false\n",
    "\n",
    "library(tidymodels)"
   ],
   "id": "09acb117-4bcc-4e11-adfb-55bbc4630567"
  },
  {
   "cell_type": "markdown",
   "metadata": {},
   "source": [
    "Load the full dataset from the Surging for Science project, also clean the variables names so they use `snake_case`:"
   ],
   "id": "6f3d8b4c-369f-459e-973f-8de2f7d9e2ab"
  },
  {
   "cell_type": "code",
   "execution_count": null,
   "metadata": {},
   "outputs": [
    {
     "output_type": "stream",
     "name": "stderr",
     "text": [
      "Rows: 113404 Columns: 75\n",
      "── Column specification ────────────────────────────────────────────────────────\n",
      "Delimiter: \",\"\n",
      "chr (10): ColorNature, Color_Name, Color_Category, Group, RF_Group, Cruise_N...\n",
      "dbl (63): Area, Mean, StdDev, Mode, Min, Max, X, Y, XM, YM, Perim., BX, BY, ...\n",
      "lgl  (2): RF_use, Modified\n",
      "\n",
      "ℹ Use `spec()` to retrieve the full column specification for this data.\n",
      "ℹ Specify the column types or set `show_col_types = FALSE` to quiet this message."
     ]
    }
   ],
   "source": [
    "#| message: false\n",
    "\n",
    "plastics <- read_csv(\"data/surfingforscience_240325.csv\") |>\n",
    "  janitor::clean_names()"
   ],
   "id": "e999e6a3-6ccd-4af1-af81-0837cf6fb965"
  },
  {
   "cell_type": "markdown",
   "metadata": {},
   "source": [
    "The aim of this notebook is to evaluate performance of different models following the [tidymodels](https://www.tidymodels.org/start/) workflow. To evaluate performance we need plastics that have been evaluated manually so we can compare the trained human observer with the AI. A *good* model is the one that gets us very similar results to the trained human.\n",
    "\n",
    "Subset the data to get all plastics evaluated by a human observer."
   ],
   "id": "70401294-c3a3-42fc-8848-4f5b15f3c551"
  },
  {
   "cell_type": "code",
   "execution_count": null,
   "metadata": {},
   "outputs": [],
   "source": [
    "plastics_manual <- plastics |> filter(rf_use == FALSE)"
   ],
   "id": "e4ba76d7-3ba8-4f21-828e-0d8a29ab782a"
  },
  {
   "cell_type": "markdown",
   "metadata": {},
   "source": [
    "Overall, the model currently in use had a 58.9% success rate."
   ],
   "id": "e94b2049-ae78-4e9e-8b81-b3c2d061ad26"
  },
  {
   "cell_type": "code",
   "execution_count": null,
   "metadata": {},
   "outputs": [
    {
     "output_type": "stream",
     "name": "stdout",
     "text": [
      "# A tibble: 2 × 3\n",
      "  rf_success     n  prop\n",
      "  <lgl>      <int> <dbl>\n",
      "1 FALSE      23656 0.411\n",
      "2 TRUE       33857 0.589"
     ]
    }
   ],
   "source": [
    "plastics_manual |> count(rf_success = group == rf_group) |> \n",
    "  mutate(prop = n/sum(n))"
   ],
   "id": "4172f144-5c6d-4487-9a25-f66def989165"
  },
  {
   "cell_type": "markdown",
   "metadata": {},
   "source": [
    "Before fitting new models, data splitting is done to avoid misleading performance results due to overfitting. The training dataset is intended to have plastics of all types in similar proportion, this is achieved by setting the argument `strata = group`."
   ],
   "id": "e7d1d85d-57fd-443c-896a-5ab529d5ff06"
  },
  {
   "cell_type": "code",
   "execution_count": null,
   "metadata": {},
   "outputs": [],
   "source": [
    "plastics_split <- plastics_manual |> initial_split(prop = 3/4, strata = group)"
   ],
   "id": "ea16c799-4587-42db-bd19-11f9c6107110"
  }
 ],
 "nbformat": 4,
 "nbformat_minor": 5,
 "metadata": {}
}
