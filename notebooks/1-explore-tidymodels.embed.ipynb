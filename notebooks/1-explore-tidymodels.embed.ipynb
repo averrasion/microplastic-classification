{
 "cells": [
  {
   "cell_type": "markdown",
   "metadata": {},
   "source": [
    "# Exploration using Tidymodels\n",
    "\n",
    "# The Surfing for Science data base\n",
    "\n",
    "Load the `tidymodels` library along with other useful ones:"
   ],
   "id": "c34ede76-9546-444c-b53d-cc4f0c8270f6"
  },
  {
   "cell_type": "code",
   "execution_count": null,
   "metadata": {},
   "outputs": [
    {
     "output_type": "stream",
     "name": "stderr",
     "text": [
      "── Attaching packages ────────────────────────────────────── tidymodels 1.3.0 ──"
     ]
    },
    {
     "output_type": "stream",
     "name": "stderr",
     "text": [
      "✔ broom        1.0.8     ✔ recipes      1.3.0\n",
      "✔ dials        1.4.0     ✔ rsample      1.3.0\n",
      "✔ dplyr        1.1.4     ✔ tibble       3.2.1\n",
      "✔ ggplot2      3.5.2     ✔ tidyr        1.3.1\n",
      "✔ infer        1.0.8     ✔ tune         1.3.0\n",
      "✔ modeldata    1.4.0     ✔ workflows    1.2.0\n",
      "✔ parsnip      1.3.1     ✔ workflowsets 1.1.0\n",
      "✔ purrr        1.0.4     ✔ yardstick    1.3.2"
     ]
    },
    {
     "output_type": "stream",
     "name": "stderr",
     "text": [
      "── Conflicts ───────────────────────────────────────── tidymodels_conflicts() ──\n",
      "✖ purrr::discard() masks scales::discard()\n",
      "✖ dplyr::filter()  masks stats::filter()\n",
      "✖ dplyr::lag()     masks stats::lag()\n",
      "✖ recipes::step()  masks stats::step()"
     ]
    },
    {
     "output_type": "stream",
     "name": "stderr",
     "text": [
      "\n",
      "Attaching package: 'readr'"
     ]
    },
    {
     "output_type": "stream",
     "name": "stderr",
     "text": [
      "The following object is masked from 'package:yardstick':\n",
      "\n",
      "    spec"
     ]
    },
    {
     "output_type": "stream",
     "name": "stderr",
     "text": [
      "The following object is masked from 'package:scales':\n",
      "\n",
      "    col_factor"
     ]
    }
   ],
   "source": [
    "library(tidymodels)"
   ],
   "id": "7ae70942-ac88-48bf-92c7-29661e73b867"
  },
  {
   "cell_type": "markdown",
   "metadata": {},
   "source": [
    "Load the full dataset from the Surging for Science project, also clean the variables names so they use `snake_case` and skip superfluous metadata. Character predictors are converter to type `factor` for compatibility with recipes."
   ],
   "id": "e3089424-b5b1-47a7-89b4-bbea833b3511"
  },
  {
   "cell_type": "code",
   "execution_count": null,
   "metadata": {},
   "outputs": [],
   "source": [
    "plastics <- read_csv(\"data/surfingforscience_240325.csv\",\n",
    "                     col_types = cols(\n",
    "                       Particle_Num = col_skip(), \n",
    "                       Cruise_Name = col_skip(), Transect = col_skip(), \n",
    "                       Replicate = col_skip(), Sieve = col_skip(), \n",
    "                       Subsample = col_skip(), File_Name = col_skip(), \n",
    "                       Modified = col_skip(), ImageType = col_skip())) |> \n",
    "janitor::clean_names() |> \n",
    "mutate_if(is.character, as.factor)"
   ],
   "id": "95b702bf-93c1-4789-bede-f7b93c2ee9db"
  },
  {
   "cell_type": "markdown",
   "metadata": {},
   "source": [
    "The aim of this notebook is to evaluate performance of different models following the [tidymodels](https://www.tidymodels.org/) workflow. To evaluate performance we need plastics that have been evaluated manually so we can compare the trained human observer with the AI. A *good* model is the one that gets us very similar results to the trained human.\n",
    "\n",
    "Subset the data to get all plastics evaluated by a human observer."
   ],
   "id": "a50bc718-e22d-4dc7-8f60-838bb3e5701a"
  },
  {
   "cell_type": "code",
   "execution_count": null,
   "metadata": {},
   "outputs": [],
   "source": [
    "plastics_manual <- plastics |> filter(rf_use == FALSE)"
   ],
   "id": "da5f1157-ea70-4564-a893-19f3aa2f2684"
  },
  {
   "cell_type": "markdown",
   "metadata": {},
   "source": [
    "Overall, the model currently in use had a 58.9% success rate."
   ],
   "id": "ab879895-4746-4793-a305-d36ecad870d2"
  },
  {
   "cell_type": "code",
   "execution_count": null,
   "metadata": {},
   "outputs": [
    {
     "output_type": "stream",
     "name": "stdout",
     "text": [
      "# A tibble: 2 × 3\n",
      "  rf_success     n  prop\n",
      "  <lgl>      <int> <dbl>\n",
      "1 FALSE      23656 0.411\n",
      "2 TRUE       33857 0.589"
     ]
    }
   ],
   "source": [
    "plastics_manual |> \n",
    "  count(rf_success = as.character(group) == as.character(rf_group)) |> \n",
    "  mutate(prop = n/sum(n))"
   ],
   "id": "fea69922-911b-4868-addf-cbed5d3d4fab"
  },
  {
   "cell_type": "markdown",
   "metadata": {},
   "source": [
    "Remove all variables related to the current model"
   ],
   "id": "8a4d68c8-3b2c-46b1-8e6d-0bda30ccb76e"
  },
  {
   "cell_type": "code",
   "execution_count": null,
   "metadata": {},
   "outputs": [],
   "source": [
    "plastics_manual <- plastics_manual |> \n",
    "  select(-starts_with(\"prob\"), -starts_with(\"rf\"))"
   ],
   "id": "b74dca88-9346-4247-a21a-6a85d3f73fb8"
  },
  {
   "cell_type": "markdown",
   "metadata": {},
   "source": [
    "Before fitting new models, data splitting is done to avoid training and evaluating the model with the same set of data. If so was done, the performance results would be overly optimistic due to overfitting. The training dataset is intended to have plastics of all types in similar proportion, this is achieved by setting the argument `strata = group`."
   ],
   "id": "0f8cd2f2-4ff8-4db9-ad9d-a6684d110ce2"
  },
  {
   "cell_type": "code",
   "execution_count": null,
   "metadata": {},
   "outputs": [],
   "source": [
    "plastics_split <- plastics_manual |> initial_split(prop = 3/4, strata = group)"
   ],
   "id": "8ad567d6-0042-445b-98c8-5e316cf91e1f"
  },
  {
   "cell_type": "markdown",
   "metadata": {},
   "source": [
    "After checking the relative group composition of our training set we observe that some groups are very rare: `Fibre.bundle`, `Paint.chip` and `NA.Other`"
   ],
   "id": "e0eb3084-67b3-4d77-911c-a6cfa1c4a02b"
  },
  {
   "cell_type": "code",
   "execution_count": null,
   "metadata": {},
   "outputs": [
    {
     "output_type": "stream",
     "name": "stdout",
     "text": [
      "# A tibble: 11 × 3\n",
      "   group                  n      prop\n",
      "   <fct>              <int>     <dbl>\n",
      " 1 Artificial.turf      847 0.0196   \n",
      " 2 Fibre                107 0.00248  \n",
      " 3 Fibre.bundle           7 0.000162 \n",
      " 4 Filament             845 0.0196   \n",
      " 5 Film.Sheet         11088 0.257    \n",
      " 6 Foam                3602 0.0835   \n",
      " 7 Fragment           26176 0.607    \n",
      " 8 NA.Other              37 0.000858 \n",
      " 9 Paint.chip             1 0.0000232\n",
      "10 Pellet               142 0.00329  \n",
      "11 Spherule.Microbead   282 0.00654  "
     ]
    }
   ],
   "source": [
    "train_plastics <- training(plastics_split)\n",
    "test_plastics <- testing(plastics_split)\n",
    "\n",
    "train_plastics |> count(group) |> mutate(prop = n/sum(n))"
   ],
   "id": "80d44fa5-b526-44cd-aab1-aa97a8c894d9"
  },
  {
   "cell_type": "markdown",
   "metadata": {},
   "source": [
    "# Preprocessin using recipes\n",
    "\n",
    "Let’s initialize a simple recipe for our first model"
   ],
   "id": "4e620b73-de3c-4a9c-911b-95a57326d686"
  },
  {
   "cell_type": "code",
   "execution_count": null,
   "metadata": {},
   "outputs": [],
   "source": [
    "plastics_recipe <- train_plastics |> recipe(group ~ .) |> \n",
    "  step_dummy(all_nominal_predictors()) |> \n",
    "  step_zv(all_predictors())"
   ],
   "id": "2f2121d0-a793-4375-91a3-01fcb8e84fdc"
  },
  {
   "cell_type": "markdown",
   "metadata": {},
   "source": [
    "Next, define a random forest model of 1000 trees using the `ranger` engine."
   ],
   "id": "71c374ed-29c3-40a9-b425-b400d1727ca4"
  },
  {
   "cell_type": "code",
   "execution_count": null,
   "metadata": {},
   "outputs": [],
   "source": [
    "rf_mod <- \n",
    "  rand_forest(trees = 100) |> \n",
    "  set_engine(\"ranger\") |> \n",
    "  set_mode(\"classification\")"
   ],
   "id": "94472f92-2d67-44a0-bbbd-41a4184294f2"
  },
  {
   "cell_type": "markdown",
   "metadata": {},
   "source": [
    "Create a modelling workflow that combines the model and the recipe"
   ],
   "id": "e76eb6bc-a47a-4361-96e8-128ca3b59635"
  },
  {
   "cell_type": "code",
   "execution_count": null,
   "metadata": {},
   "outputs": [],
   "source": [
    "plastics_wflow <- workflow() |> add_model(rf_mod) |> add_recipe(plastics_recipe)"
   ],
   "id": "a5f8363e-8742-4a0f-bf90-4f5e494ec79e"
  },
  {
   "cell_type": "markdown",
   "metadata": {},
   "source": [
    "Fit the workflow to the training data\n",
    "\n",
    "> **Warning**\n",
    ">\n",
    "> Heavy computation ahead"
   ],
   "id": "097c2458-7f17-44f8-b981-82c55bd59d65"
  },
  {
   "cell_type": "code",
   "execution_count": null,
   "metadata": {},
   "outputs": [],
   "source": [
    "rf_fit <- plastics_wflow |> fit(data = train_plastics)"
   ],
   "id": "fb654bdd-d732-4ba3-bdbe-dd5f12d00530"
  },
  {
   "cell_type": "markdown",
   "metadata": {},
   "source": [
    "Let’s see how it went"
   ],
   "id": "b8c259f8-f5d7-4dbd-9060-4283bddabd94"
  },
  {
   "cell_type": "code",
   "execution_count": null,
   "metadata": {},
   "outputs": [
    {
     "output_type": "stream",
     "name": "stdout",
     "text": [
      "parsnip model object\n",
      "\n",
      "Ranger result\n",
      "\n",
      "Call:\n",
      " ranger::ranger(x = maybe_data_frame(x), y = y, num.trees = ~100,      num.threads = 1, verbose = FALSE, seed = sample.int(10^5,          1), probability = TRUE) \n",
      "\n",
      "Type:                             Probability estimation \n",
      "Number of trees:                  100 \n",
      "Sample size:                      43134 \n",
      "Number of independent variables:  152 \n",
      "Mtry:                             12 \n",
      "Target node size:                 10 \n",
      "Variable importance mode:         none \n",
      "Splitrule:                        gini \n",
      "OOB prediction error (Brier s.):  0.2001236 "
     ]
    }
   ],
   "source": [
    "rf_fit |> extract_fit_parsnip()"
   ],
   "id": "9b97082a-4cdb-4ad0-aee9-5e2b0cbdb814"
  },
  {
   "cell_type": "markdown",
   "metadata": {},
   "source": [
    "# Evaluating performance using resamples\n",
    "\n",
    "Lets create a 10 fold cross validation resample"
   ],
   "id": "cf550aa6-59d3-42d2-b4b7-bf473dd4baa1"
  },
  {
   "cell_type": "code",
   "execution_count": null,
   "metadata": {},
   "outputs": [],
   "source": [
    "set.seed(567)\n",
    "folds <- train_plastics |> vfold_cv(v = 4)"
   ],
   "id": "c6acfd3c-cac7-4eda-98bb-f15b5bce7b6f"
  },
  {
   "cell_type": "markdown",
   "metadata": {},
   "source": [
    "Now fit the workflow to the resamples\n",
    "\n",
    "> **Warning**\n",
    ">\n",
    "> Heavy computation ahead"
   ],
   "id": "6982772c-c157-4a88-9309-89a4cdf7fb32"
  },
  {
   "cell_type": "code",
   "execution_count": null,
   "metadata": {},
   "outputs": [
    {
     "output_type": "stream",
     "name": "stderr",
     "text": [
      "→ A | warning: Dropped unused factor level(s) in dependent variable: Paint.chip."
     ]
    },
    {
     "output_type": "stream",
     "name": "stderr",
     "text": [
      "There were issues with some computations   A: x1"
     ]
    },
    {
     "output_type": "stream",
     "name": "stderr",
     "text": [
      "→ B | error:   Failed to compute `roc_auc()`.\n",
      "               Caused by error:\n",
      "               ! Can't select columns that don't exist.\n",
      "               ✖ Column `.pred_Paint.chip` doesn't exist."
     ]
    },
    {
     "output_type": "stream",
     "name": "stderr",
     "text": [
      "There were issues with some computations   A: x1\n",
      "There were issues with some computations   A: x1   B: x1\n",
      "→ C | warning: ✖ No observations were detected in `truth` for level: Paint.chip.\n",
      "               ℹ Computation will proceed by ignoring those levels.\n",
      "There were issues with some computations   A: x1   B: x1\n",
      "There were issues with some computations   A: x1   B: x1   C: x1\n",
      "There were issues with some computations   A: x1   B: x1   C: x2\n",
      "There were issues with some computations   A: x1   B: x1   C: x3\n",
      "There were issues with some computations   A: x1   B: x1   C: x3"
     ]
    }
   ],
   "source": [
    "set.seed(311)\n",
    "rf_fit_rs <- plastics_wflow |> fit_resamples(folds)"
   ],
   "id": "aa95e635-612e-4f11-9211-2b8c730616cd"
  },
  {
   "cell_type": "markdown",
   "metadata": {},
   "source": [
    "Finally, collect the metrics and see how it did"
   ],
   "id": "6724a016-b6ac-4175-980e-686cbef5b260"
  },
  {
   "cell_type": "code",
   "execution_count": null,
   "metadata": {},
   "outputs": [
    {
     "output_type": "stream",
     "name": "stdout",
     "text": [
      "# A tibble: 3 × 6\n",
      "  .metric     .estimator  mean     n  std_err .config             \n",
      "  <chr>       <chr>      <dbl> <int>    <dbl> <chr>               \n",
      "1 accuracy    multiclass 0.762     3 0.00227  Preprocessor1_Model1\n",
      "2 brier_class multiclass 0.172     3 0.000966 Preprocessor1_Model1\n",
      "3 roc_auc     hand_till  0.863     3 0.00977  Preprocessor1_Model1"
     ]
    }
   ],
   "source": [
    "rf_fit_rs |> collect_metrics()"
   ],
   "id": "1b9e7871-97fc-43f1-9835-45d3f1229ae7"
  }
 ],
 "nbformat": 4,
 "nbformat_minor": 5,
 "metadata": {}
}
