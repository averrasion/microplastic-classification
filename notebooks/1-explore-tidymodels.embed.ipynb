{
 "cells": [
  {
   "cell_type": "markdown",
   "metadata": {},
   "source": [
    "# Exploration using Tidymodels\n",
    "\n",
    "# The Surfing for Science data base\n",
    "\n",
    "Load the `tidymodels` library along with other useful ones:"
   ],
   "id": "00ff7f01-9916-47ac-8bd2-d06373cb7e26"
  },
  {
   "cell_type": "code",
   "execution_count": null,
   "metadata": {},
   "outputs": [
    {
     "output_type": "stream",
     "name": "stderr",
     "text": [
      "── Attaching packages ────────────────────────────────────── tidymodels 1.3.0 ──"
     ]
    },
    {
     "output_type": "stream",
     "name": "stderr",
     "text": [
      "✔ broom        1.0.8     ✔ recipes      1.3.0\n",
      "✔ dials        1.4.0     ✔ rsample      1.3.0\n",
      "✔ dplyr        1.1.4     ✔ tibble       3.2.1\n",
      "✔ ggplot2      3.5.2     ✔ tidyr        1.3.1\n",
      "✔ infer        1.0.8     ✔ tune         1.3.0\n",
      "✔ modeldata    1.4.0     ✔ workflows    1.2.0\n",
      "✔ parsnip      1.3.1     ✔ workflowsets 1.1.0\n",
      "✔ purrr        1.0.4     ✔ yardstick    1.3.2"
     ]
    },
    {
     "output_type": "stream",
     "name": "stderr",
     "text": [
      "── Conflicts ───────────────────────────────────────── tidymodels_conflicts() ──\n",
      "✖ purrr::discard() masks scales::discard()\n",
      "✖ dplyr::filter()  masks stats::filter()\n",
      "✖ dplyr::lag()     masks stats::lag()\n",
      "✖ recipes::step()  masks stats::step()"
     ]
    },
    {
     "output_type": "stream",
     "name": "stderr",
     "text": [
      "\n",
      "Attaching package: 'readr'"
     ]
    },
    {
     "output_type": "stream",
     "name": "stderr",
     "text": [
      "The following object is masked from 'package:yardstick':\n",
      "\n",
      "    spec"
     ]
    },
    {
     "output_type": "stream",
     "name": "stderr",
     "text": [
      "The following object is masked from 'package:scales':\n",
      "\n",
      "    col_factor"
     ]
    }
   ],
   "source": [
    "library(tidymodels)"
   ],
   "id": "ea144bda-036a-4f5a-a9fa-1637a54d3988"
  },
  {
   "cell_type": "markdown",
   "metadata": {},
   "source": [
    "Load the full dataset from the Surging for Science project, also clean the variables names so they use `snake_case` and skip superfluous metadata. Character predictors are converter to type `factor` for compatibility with recipes."
   ],
   "id": "84b206b3-6e92-4d1c-baa0-58e382409419"
  },
  {
   "cell_type": "code",
   "execution_count": null,
   "metadata": {},
   "outputs": [],
   "source": [
    "plastics <- read_csv(\"data/surfingforscience_240325.csv\",\n",
    "                     col_types = cols(\n",
    "                       Particle_Num = col_skip(), \n",
    "                       Cruise_Name = col_skip(), Transect = col_skip(), \n",
    "                       Replicate = col_skip(), Sieve = col_skip(), \n",
    "                       Subsample = col_skip(), File_Name = col_skip(), \n",
    "                       Modified = col_skip(), ImageType = col_skip())) |> \n",
    "janitor::clean_names() |> \n",
    "mutate_if(is.character, as.factor)"
   ],
   "id": "efc9f89c-f417-4607-910e-319a51f86c37"
  },
  {
   "cell_type": "markdown",
   "metadata": {},
   "source": [
    "The aim of this notebook is to evaluate performance of different models following the [tidymodels](https://www.tidymodels.org/) workflow. To evaluate performance we need plastics that have been evaluated manually so we can compare the trained human observer with the AI. A *good* model is the one that gets us very similar results to the trained human.\n",
    "\n",
    "Subset the data to get all plastics evaluated by a human observer."
   ],
   "id": "75ebca2b-59f8-4e64-8b4f-a73f15beda3c"
  },
  {
   "cell_type": "code",
   "execution_count": null,
   "metadata": {},
   "outputs": [],
   "source": [
    "plastics_manual <- plastics |> filter(rf_use == FALSE)"
   ],
   "id": "cdd39d3f-548f-4224-be06-af4c6327b116"
  },
  {
   "cell_type": "markdown",
   "metadata": {},
   "source": [
    "Overall, the model currently in use had a 58.9% success rate."
   ],
   "id": "81e0225b-2953-401e-b8bf-512d824b3cd9"
  },
  {
   "cell_type": "code",
   "execution_count": null,
   "metadata": {},
   "outputs": [
    {
     "output_type": "stream",
     "name": "stdout",
     "text": [
      "# A tibble: 2 × 3\n",
      "  rf_success     n  prop\n",
      "  <lgl>      <int> <dbl>\n",
      "1 FALSE      23656 0.411\n",
      "2 TRUE       33857 0.589"
     ]
    }
   ],
   "source": [
    "plastics_manual |> \n",
    "  count(rf_success = as.character(group) == as.character(rf_group)) |> \n",
    "  mutate(prop = n/sum(n))"
   ],
   "id": "e8260d00-6590-4de0-9fae-e82dbae067f8"
  },
  {
   "cell_type": "markdown",
   "metadata": {},
   "source": [
    "Remove all variables related to the current model"
   ],
   "id": "3826578e-079d-4ef6-b21d-13b138907b46"
  },
  {
   "cell_type": "code",
   "execution_count": null,
   "metadata": {},
   "outputs": [],
   "source": [
    "plastics_manual <- plastics_manual |> \n",
    "  select(-starts_with(\"prob\"), -starts_with(\"rf\"))"
   ],
   "id": "6d648efb-8b7e-441e-a5e4-33c212c3baed"
  },
  {
   "cell_type": "markdown",
   "metadata": {},
   "source": [
    "Before fitting new models, data splitting is done to avoid training and evaluating the model with the same set of data. If so was done, the performance results would be overly optimistic due to overfitting. The training dataset is intended to have plastics of all types in similar proportion, this is achieved by setting the argument `strata = group`."
   ],
   "id": "f53d9ad1-d2df-4444-8b56-f107b8c3176c"
  },
  {
   "cell_type": "code",
   "execution_count": null,
   "metadata": {},
   "outputs": [],
   "source": [
    "plastics_split <- plastics_manual |> initial_split(prop = 3/4, strata = group)"
   ],
   "id": "911d3216-1156-44fb-a876-c895bf6e03bd"
  },
  {
   "cell_type": "markdown",
   "metadata": {},
   "source": [
    "After checking the relative group composition of our training set we observe that some groups are very rare: `Fibre.bundle`, `Paint.chip` and `NA.Other`"
   ],
   "id": "99b78394-f8b1-4e61-9b91-645feeddd389"
  },
  {
   "cell_type": "code",
   "execution_count": null,
   "metadata": {},
   "outputs": [
    {
     "output_type": "stream",
     "name": "stdout",
     "text": [
      "# A tibble: 11 × 3\n",
      "   group                  n      prop\n",
      "   <fct>              <int>     <dbl>\n",
      " 1 Artificial.turf      847 0.0196   \n",
      " 2 Fibre                107 0.00248  \n",
      " 3 Fibre.bundle           7 0.000162 \n",
      " 4 Filament             845 0.0196   \n",
      " 5 Film.Sheet         11088 0.257    \n",
      " 6 Foam                3602 0.0835   \n",
      " 7 Fragment           26176 0.607    \n",
      " 8 NA.Other              37 0.000858 \n",
      " 9 Paint.chip             1 0.0000232\n",
      "10 Pellet               142 0.00329  \n",
      "11 Spherule.Microbead   282 0.00654  "
     ]
    }
   ],
   "source": [
    "train_plastics <- training(plastics_split)\n",
    "test_plastics <- testing(plastics_split)\n",
    "\n",
    "train_plastics |> count(group) |> mutate(prop = n/sum(n))"
   ],
   "id": "5cd1439f-fd5f-432e-b1f9-90dc876c8008"
  },
  {
   "cell_type": "markdown",
   "metadata": {},
   "source": [
    "# Preprocessin using recipes\n",
    "\n",
    "Let’s initialize a simple recipe for our first model"
   ],
   "id": "92662fa0-e47b-4ba7-a1c7-2bb5bb17f841"
  },
  {
   "cell_type": "code",
   "execution_count": null,
   "metadata": {},
   "outputs": [],
   "source": [
    "plastics_recipe <- train_plastics |> recipe(group ~ .) |> \n",
    "  step_dummy(all_nominal_predictors()) |> \n",
    "  step_zv(all_predictors())"
   ],
   "id": "3cbfe4b0-2dc5-45ea-b340-e5f918d92fcd"
  },
  {
   "cell_type": "markdown",
   "metadata": {},
   "source": [
    "Next, define a random forest model of 1000 trees using the `ranger` engine."
   ],
   "id": "e499584c-4ff7-42c5-b6ec-695d80769eac"
  },
  {
   "cell_type": "code",
   "execution_count": null,
   "metadata": {},
   "outputs": [],
   "source": [
    "rf_mod <- \n",
    "  rand_forest(trees = 100) |> \n",
    "  set_engine(\"ranger\") |> \n",
    "  set_mode(\"classification\")"
   ],
   "id": "a12c09d5-1e7f-4580-9d82-e24cafdca4c0"
  },
  {
   "cell_type": "markdown",
   "metadata": {},
   "source": [
    "Create a modelling workflow that combines the model and the recipe"
   ],
   "id": "6c2e0c1c-8101-401c-b3e8-7f88ee300d40"
  },
  {
   "cell_type": "code",
   "execution_count": null,
   "metadata": {},
   "outputs": [],
   "source": [
    "plastics_wflow <- workflow() |> add_model(rf_mod) |> add_recipe(plastics_recipe)"
   ],
   "id": "811ac3f3-00bf-4050-bec3-ddc1ba930229"
  },
  {
   "cell_type": "markdown",
   "metadata": {},
   "source": [
    "Fit the workflow to the training data\n",
    "\n",
    "> **Warning**\n",
    ">\n",
    "> Heavy computation ahead"
   ],
   "id": "c0fc65dd-b0e5-4803-a269-855ecc2b0b6d"
  },
  {
   "cell_type": "code",
   "execution_count": null,
   "metadata": {},
   "outputs": [],
   "source": [
    "rf_fit <- plastics_wflow |> fit(data = train_plastics)"
   ],
   "id": "0fb76b70-7db6-4d3a-9aa2-9172693a43ab"
  },
  {
   "cell_type": "markdown",
   "metadata": {},
   "source": [
    "Let’s see how it went"
   ],
   "id": "b933bd68-2364-4b7f-a332-29c82c267da0"
  },
  {
   "cell_type": "code",
   "execution_count": null,
   "metadata": {},
   "outputs": [
    {
     "output_type": "stream",
     "name": "stdout",
     "text": [
      "parsnip model object\n",
      "\n",
      "Ranger result\n",
      "\n",
      "Call:\n",
      " ranger::ranger(x = maybe_data_frame(x), y = y, num.trees = ~100,      num.threads = 1, verbose = FALSE, seed = sample.int(10^5,          1), probability = TRUE) \n",
      "\n",
      "Type:                             Probability estimation \n",
      "Number of trees:                  100 \n",
      "Sample size:                      43134 \n",
      "Number of independent variables:  152 \n",
      "Mtry:                             12 \n",
      "Target node size:                 10 \n",
      "Variable importance mode:         none \n",
      "Splitrule:                        gini \n",
      "OOB prediction error (Brier s.):  0.2001236 "
     ]
    }
   ],
   "source": [
    "rf_fit |> extract_fit_parsnip()"
   ],
   "id": "94a891e1-694b-4356-aaf3-9f5bdb476f06"
  },
  {
   "cell_type": "markdown",
   "metadata": {},
   "source": [
    "# Evaluating performance using resamples\n",
    "\n",
    "Lets create a 10 fold cross validation resample"
   ],
   "id": "0e7ce0ca-8146-41d7-80d5-2c388f704622"
  },
  {
   "cell_type": "code",
   "execution_count": null,
   "metadata": {},
   "outputs": [],
   "source": [
    "set.seed(567)\n",
    "folds <- train_plastics |> vfold_cv(v = 4)"
   ],
   "id": "3a699a8f-7af7-4e3a-b4c0-2fa860a24bc9"
  },
  {
   "cell_type": "markdown",
   "metadata": {},
   "source": [
    "Now fit the workflow to the resamples\n",
    "\n",
    "> **Warning**\n",
    ">\n",
    "> Heavy computation ahead"
   ],
   "id": "09b08d98-7b13-43b0-8296-c9e7d6191b85"
  },
  {
   "cell_type": "code",
   "execution_count": null,
   "metadata": {},
   "outputs": [
    {
     "output_type": "stream",
     "name": "stderr",
     "text": [
      "→ A | warning: Dropped unused factor level(s) in dependent variable: Paint.chip."
     ]
    },
    {
     "output_type": "stream",
     "name": "stderr",
     "text": [
      "There were issues with some computations   A: x1"
     ]
    },
    {
     "output_type": "stream",
     "name": "stderr",
     "text": [
      "→ B | error:   Failed to compute `roc_auc()`.\n",
      "               Caused by error:\n",
      "               ! Can't select columns that don't exist.\n",
      "               ✖ Column `.pred_Paint.chip` doesn't exist."
     ]
    },
    {
     "output_type": "stream",
     "name": "stderr",
     "text": [
      "There were issues with some computations   A: x1\n",
      "There were issues with some computations   A: x1   B: x1\n",
      "→ C | warning: ✖ No observations were detected in `truth` for level: Paint.chip.\n",
      "               ℹ Computation will proceed by ignoring those levels.\n",
      "There were issues with some computations   A: x1   B: x1\n",
      "There were issues with some computations   A: x1   B: x1   C: x1\n",
      "There were issues with some computations   A: x1   B: x1   C: x2\n",
      "There were issues with some computations   A: x1   B: x1   C: x3\n",
      "There were issues with some computations   A: x1   B: x1   C: x3"
     ]
    }
   ],
   "source": [
    "set.seed(311)\n",
    "rf_fit_rs <- plastics_wflow |> fit_resamples(folds)"
   ],
   "id": "5af1dcbc-0170-4e89-9a75-46200777e392"
  },
  {
   "cell_type": "markdown",
   "metadata": {},
   "source": [
    "Finally, collect the metrics and see how it did"
   ],
   "id": "4d4c24ce-2734-46cf-a192-83e346ef9b4a"
  },
  {
   "cell_type": "code",
   "execution_count": null,
   "metadata": {},
   "outputs": [
    {
     "output_type": "stream",
     "name": "stdout",
     "text": [
      "# A tibble: 3 × 6\n",
      "  .metric     .estimator  mean     n  std_err .config             \n",
      "  <chr>       <chr>      <dbl> <int>    <dbl> <chr>               \n",
      "1 accuracy    multiclass 0.762     3 0.00227  Preprocessor1_Model1\n",
      "2 brier_class multiclass 0.172     3 0.000966 Preprocessor1_Model1\n",
      "3 roc_auc     hand_till  0.863     3 0.00977  Preprocessor1_Model1"
     ]
    }
   ],
   "source": [
    "rf_fit_rs |> collect_metrics()"
   ],
   "id": "d4537250-1f48-4bce-b699-ea75af70748d"
  }
 ],
 "nbformat": 4,
 "nbformat_minor": 5,
 "metadata": {}
}
