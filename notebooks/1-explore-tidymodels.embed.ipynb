{
 "cells": [
  {
   "cell_type": "markdown",
   "metadata": {},
   "source": [
    "# Exploration using Tidymodels\n",
    "\n",
    "# The Surfing for Science data base\n",
    "\n",
    "Load the `tidymodels` library along with other useful ones:"
   ],
   "id": "9677b3e1-596c-4110-8423-319907a1d5b2"
  },
  {
   "cell_type": "code",
   "execution_count": null,
   "metadata": {},
   "outputs": [
    {
     "output_type": "stream",
     "name": "stderr",
     "text": [
      "── Attaching packages ────────────────────────────────────── tidymodels 1.3.0 ──"
     ]
    },
    {
     "output_type": "stream",
     "name": "stderr",
     "text": [
      "✔ broom        1.0.8     ✔ recipes      1.3.0\n",
      "✔ dials        1.4.0     ✔ rsample      1.3.0\n",
      "✔ dplyr        1.1.4     ✔ tibble       3.2.1\n",
      "✔ ggplot2      3.5.2     ✔ tidyr        1.3.1\n",
      "✔ infer        1.0.8     ✔ tune         1.3.0\n",
      "✔ modeldata    1.4.0     ✔ workflows    1.2.0\n",
      "✔ parsnip      1.3.1     ✔ workflowsets 1.1.0\n",
      "✔ purrr        1.0.4     ✔ yardstick    1.3.2"
     ]
    },
    {
     "output_type": "stream",
     "name": "stderr",
     "text": [
      "── Conflicts ───────────────────────────────────────── tidymodels_conflicts() ──\n",
      "✖ purrr::discard() masks scales::discard()\n",
      "✖ dplyr::filter()  masks stats::filter()\n",
      "✖ dplyr::lag()     masks stats::lag()\n",
      "✖ recipes::step()  masks stats::step()"
     ]
    },
    {
     "output_type": "stream",
     "name": "stderr",
     "text": [
      "\n",
      "Attaching package: 'readr'"
     ]
    },
    {
     "output_type": "stream",
     "name": "stderr",
     "text": [
      "The following object is masked from 'package:yardstick':\n",
      "\n",
      "    spec"
     ]
    },
    {
     "output_type": "stream",
     "name": "stderr",
     "text": [
      "The following object is masked from 'package:scales':\n",
      "\n",
      "    col_factor"
     ]
    }
   ],
   "source": [
    "library(tidymodels)"
   ],
   "id": "763cca50-b9d6-4e65-9f9c-6c4933187092"
  },
  {
   "cell_type": "markdown",
   "metadata": {},
   "source": [
    "Load the full dataset from the Surging for Science project, also clean the variables names so they use `snake_case` and skip superfluous metadata. Character predictors are converter to type `factor` for compatibility with recipes."
   ],
   "id": "0245f547-7ebe-4cc1-aae4-64fdbe70a826"
  },
  {
   "cell_type": "code",
   "execution_count": null,
   "metadata": {},
   "outputs": [],
   "source": [
    "plastics <- read_csv(\"data/surfingforscience_240325.csv\",\n",
    "                     col_types = cols(\n",
    "                       Particle_Num = col_skip(), \n",
    "                       Cruise_Name = col_skip(), Transect = col_skip(), \n",
    "                       Replicate = col_skip(), Sieve = col_skip(), \n",
    "                       Subsample = col_skip(), File_Name = col_skip(), \n",
    "                       Modified = col_skip(), ImageType = col_skip())) |> \n",
    "janitor::clean_names() |> \n",
    "mutate_if(is.character, as.factor)"
   ],
   "id": "46618965-0067-4e16-a378-680f3879d1f3"
  },
  {
   "cell_type": "markdown",
   "metadata": {},
   "source": [
    "The aim of this notebook is to evaluate performance of different models following the [tidymodels](https://www.tidymodels.org/) workflow. To evaluate performance we need plastics that have been evaluated manually so we can compare the trained human observer with the AI. A *good* model is the one that gets us very similar results to the trained human.\n",
    "\n",
    "Subset the data to get all plastics evaluated by a human observer."
   ],
   "id": "dcf6220a-31e3-4b84-a58e-530db803fbed"
  },
  {
   "cell_type": "code",
   "execution_count": null,
   "metadata": {},
   "outputs": [],
   "source": [
    "plastics_manual <- plastics |> filter(rf_use == FALSE)"
   ],
   "id": "8a579cca-c50b-4c95-b775-88b60e9640fd"
  },
  {
   "cell_type": "markdown",
   "metadata": {},
   "source": [
    "Overall, the model currently in use had a 58.9% success rate."
   ],
   "id": "561c1b6c-58ae-4e18-91ba-ca906fabd9e3"
  },
  {
   "cell_type": "code",
   "execution_count": null,
   "metadata": {},
   "outputs": [
    {
     "output_type": "stream",
     "name": "stdout",
     "text": [
      "# A tibble: 2 × 3\n",
      "  rf_success     n  prop\n",
      "  <lgl>      <int> <dbl>\n",
      "1 FALSE      23656 0.411\n",
      "2 TRUE       33857 0.589"
     ]
    }
   ],
   "source": [
    "plastics_manual |> \n",
    "  count(rf_success = as.character(group) == as.character(rf_group)) |> \n",
    "  mutate(prop = n/sum(n))"
   ],
   "id": "3e6fa05e-192a-43be-8a6d-46d47ec9db88"
  },
  {
   "cell_type": "markdown",
   "metadata": {},
   "source": [
    "Remove all variables related to the current model"
   ],
   "id": "3a5e53cd-7c93-4ad9-b9ed-a4760fb1c725"
  },
  {
   "cell_type": "code",
   "execution_count": null,
   "metadata": {},
   "outputs": [],
   "source": [
    "plastics_manual <- plastics_manual |> \n",
    "  select(-starts_with(\"prob\"), -starts_with(\"rf\"))"
   ],
   "id": "81b0ea58-925f-4a4e-8e7b-0737c1addc4d"
  },
  {
   "cell_type": "markdown",
   "metadata": {},
   "source": [
    "Before fitting new models, data splitting is done to avoid training and evaluating the model with the same set of data. If so was done, the performance results would be overly optimistic due to overfitting. The training dataset is intended to have plastics of all types in similar proportion, this is achieved by setting the argument `strata = group`."
   ],
   "id": "90e88f10-1df8-493a-8224-0e2d1294fee4"
  },
  {
   "cell_type": "code",
   "execution_count": null,
   "metadata": {},
   "outputs": [],
   "source": [
    "plastics_split <- plastics_manual |> initial_split(prop = 3/4, strata = group)"
   ],
   "id": "0214e71b-c4b0-4b5b-878f-45280b1600a6"
  },
  {
   "cell_type": "markdown",
   "metadata": {},
   "source": [
    "After checking the relative group composition of our training set we observe that some groups are very rare: `Fibre.bundle`, `Paint.chip` and `NA.Other`"
   ],
   "id": "2208a8a7-1fec-455e-90a8-818a5477314c"
  },
  {
   "cell_type": "code",
   "execution_count": null,
   "metadata": {},
   "outputs": [
    {
     "output_type": "stream",
     "name": "stdout",
     "text": [
      "# A tibble: 11 × 3\n",
      "   group                  n      prop\n",
      "   <fct>              <int>     <dbl>\n",
      " 1 Artificial.turf      847 0.0196   \n",
      " 2 Fibre                107 0.00248  \n",
      " 3 Fibre.bundle           7 0.000162 \n",
      " 4 Filament             845 0.0196   \n",
      " 5 Film.Sheet         11088 0.257    \n",
      " 6 Foam                3602 0.0835   \n",
      " 7 Fragment           26176 0.607    \n",
      " 8 NA.Other              37 0.000858 \n",
      " 9 Paint.chip             1 0.0000232\n",
      "10 Pellet               142 0.00329  \n",
      "11 Spherule.Microbead   282 0.00654  "
     ]
    }
   ],
   "source": [
    "train_plastics <- training(plastics_split)\n",
    "test_plastics <- testing(plastics_split)\n",
    "\n",
    "train_plastics |> count(group) |> mutate(prop = n/sum(n))"
   ],
   "id": "16344390-6d21-4f13-ab39-c9257e56d630"
  },
  {
   "cell_type": "markdown",
   "metadata": {},
   "source": [
    "# Preprocessin using recipes\n",
    "\n",
    "Let’s initialize a simple recipe for our first model"
   ],
   "id": "088a1b52-e8e2-4518-960f-9daf57e6630d"
  },
  {
   "cell_type": "code",
   "execution_count": null,
   "metadata": {},
   "outputs": [],
   "source": [
    "plastics_recipe <- train_plastics |> recipe(group ~ .) |> \n",
    "  step_dummy(all_nominal_predictors()) |> \n",
    "  step_zv(all_predictors())"
   ],
   "id": "c1b18fca-318f-4cd5-b453-2d465e3d3b25"
  },
  {
   "cell_type": "markdown",
   "metadata": {},
   "source": [
    "Next, define a random forest model of 1000 trees using the `ranger` engine."
   ],
   "id": "ea1b366e-e9a9-4266-9a41-7994cb1a27eb"
  },
  {
   "cell_type": "code",
   "execution_count": null,
   "metadata": {},
   "outputs": [],
   "source": [
    "rf_mod <- \n",
    "  rand_forest(trees = 100) |> \n",
    "  set_engine(\"ranger\") |> \n",
    "  set_mode(\"classification\")"
   ],
   "id": "40229bb4-5dd3-4162-a977-4f360a960cba"
  },
  {
   "cell_type": "markdown",
   "metadata": {},
   "source": [
    "Create a modelling workflow that combines the model and the recipe"
   ],
   "id": "9bf1edc7-f917-4423-b5c9-1a217bde7ef1"
  },
  {
   "cell_type": "code",
   "execution_count": null,
   "metadata": {},
   "outputs": [],
   "source": [
    "plastics_wflow <- workflow() |> add_model(rf_mod) |> add_recipe(plastics_recipe)"
   ],
   "id": "247be4d4-91f3-4023-98b9-81bcc0c7b8ef"
  },
  {
   "cell_type": "markdown",
   "metadata": {},
   "source": [
    "Fit the workflow to the training data\n",
    "\n",
    "> **Warning**\n",
    ">\n",
    "> Heavy computation ahead"
   ],
   "id": "8956fd33-189e-4a3a-850d-61d76f785e29"
  },
  {
   "cell_type": "code",
   "execution_count": null,
   "metadata": {},
   "outputs": [],
   "source": [
    "rf_fit <- plastics_wflow |> fit(data = train_plastics)"
   ],
   "id": "6317776a-1e87-4a6e-8416-1fe7a0ea2077"
  },
  {
   "cell_type": "markdown",
   "metadata": {},
   "source": [
    "Let’s see how it went"
   ],
   "id": "ef204f2b-8a41-409f-bcf5-2cce8cbb461a"
  },
  {
   "cell_type": "code",
   "execution_count": null,
   "metadata": {},
   "outputs": [
    {
     "output_type": "stream",
     "name": "stdout",
     "text": [
      "parsnip model object\n",
      "\n",
      "Ranger result\n",
      "\n",
      "Call:\n",
      " ranger::ranger(x = maybe_data_frame(x), y = y, num.trees = ~100,      num.threads = 1, verbose = FALSE, seed = sample.int(10^5,          1), probability = TRUE) \n",
      "\n",
      "Type:                             Probability estimation \n",
      "Number of trees:                  100 \n",
      "Sample size:                      43134 \n",
      "Number of independent variables:  152 \n",
      "Mtry:                             12 \n",
      "Target node size:                 10 \n",
      "Variable importance mode:         none \n",
      "Splitrule:                        gini \n",
      "OOB prediction error (Brier s.):  0.2001236 "
     ]
    }
   ],
   "source": [
    "rf_fit |> extract_fit_parsnip()"
   ],
   "id": "fe751231-04d5-42aa-9d08-967c2ad912be"
  },
  {
   "cell_type": "markdown",
   "metadata": {},
   "source": [
    "# Evaluating performance using resamples\n",
    "\n",
    "Lets create a 10 fold cross validation resample"
   ],
   "id": "1d76b443-4bb1-48f9-bd04-3dd3c5e4bad8"
  },
  {
   "cell_type": "code",
   "execution_count": null,
   "metadata": {},
   "outputs": [],
   "source": [
    "set.seed(567)\n",
    "folds <- train_plastics |> vfold_cv(v = 4)"
   ],
   "id": "7965467c-f73f-45fd-8926-b35effcac1d3"
  },
  {
   "cell_type": "markdown",
   "metadata": {},
   "source": [
    "Now fit the workflow to the resamples\n",
    "\n",
    "> **Warning**\n",
    ">\n",
    "> Heavy computation ahead"
   ],
   "id": "ad270f6c-6924-495c-a05c-3142de6fdb24"
  },
  {
   "cell_type": "code",
   "execution_count": null,
   "metadata": {},
   "outputs": [
    {
     "output_type": "stream",
     "name": "stderr",
     "text": [
      "→ A | warning: Dropped unused factor level(s) in dependent variable: Paint.chip."
     ]
    },
    {
     "output_type": "stream",
     "name": "stderr",
     "text": [
      "There were issues with some computations   A: x1"
     ]
    },
    {
     "output_type": "stream",
     "name": "stderr",
     "text": [
      "→ B | error:   Failed to compute `roc_auc()`.\n",
      "               Caused by error:\n",
      "               ! Can't select columns that don't exist.\n",
      "               ✖ Column `.pred_Paint.chip` doesn't exist."
     ]
    },
    {
     "output_type": "stream",
     "name": "stderr",
     "text": [
      "There were issues with some computations   A: x1\n",
      "There were issues with some computations   A: x1   B: x1\n",
      "→ C | warning: ✖ No observations were detected in `truth` for level: Paint.chip.\n",
      "               ℹ Computation will proceed by ignoring those levels.\n",
      "There were issues with some computations   A: x1   B: x1\n",
      "There were issues with some computations   A: x1   B: x1   C: x1\n",
      "There were issues with some computations   A: x1   B: x1   C: x2\n",
      "There were issues with some computations   A: x1   B: x1   C: x3\n",
      "There were issues with some computations   A: x1   B: x1   C: x3"
     ]
    }
   ],
   "source": [
    "set.seed(311)\n",
    "rf_fit_rs <- plastics_wflow |> fit_resamples(folds)"
   ],
   "id": "910280d6-eb2d-4f71-b4f0-9bf89f4a5ee1"
  },
  {
   "cell_type": "markdown",
   "metadata": {},
   "source": [
    "Finally, collect the metrics and see how it did"
   ],
   "id": "9276aaca-0dea-435c-8c92-703110efa0bb"
  },
  {
   "cell_type": "code",
   "execution_count": null,
   "metadata": {},
   "outputs": [
    {
     "output_type": "stream",
     "name": "stdout",
     "text": [
      "# A tibble: 3 × 6\n",
      "  .metric     .estimator  mean     n  std_err .config             \n",
      "  <chr>       <chr>      <dbl> <int>    <dbl> <chr>               \n",
      "1 accuracy    multiclass 0.762     3 0.00227  Preprocessor1_Model1\n",
      "2 brier_class multiclass 0.172     3 0.000966 Preprocessor1_Model1\n",
      "3 roc_auc     hand_till  0.863     3 0.00977  Preprocessor1_Model1"
     ]
    }
   ],
   "source": [
    "rf_fit_rs |> collect_metrics()"
   ],
   "id": "f9eef331-907e-4f66-88d2-b8213dee773a"
  }
 ],
 "nbformat": 4,
 "nbformat_minor": 5,
 "metadata": {}
}
