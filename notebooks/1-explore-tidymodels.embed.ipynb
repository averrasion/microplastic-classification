{
 "cells": [
  {
   "cell_type": "markdown",
   "metadata": {},
   "source": [
    "# Exploration using Tidymodels\n",
    "\n",
    "# The Surfing for Science data base\n",
    "\n",
    "Load the `tidymodels` library along with other useful ones:"
   ],
   "id": "3673967c-eec0-4cb7-9e35-85ab79862da8"
  },
  {
   "cell_type": "code",
   "execution_count": null,
   "metadata": {},
   "outputs": [
    {
     "output_type": "stream",
     "name": "stderr",
     "text": [
      "── Attaching packages ────────────────────────────────────── tidymodels 1.3.0 ──"
     ]
    },
    {
     "output_type": "stream",
     "name": "stderr",
     "text": [
      "✔ broom        1.0.8     ✔ recipes      1.3.0\n",
      "✔ dials        1.4.0     ✔ rsample      1.3.0\n",
      "✔ dplyr        1.1.4     ✔ tibble       3.2.1\n",
      "✔ ggplot2      3.5.2     ✔ tidyr        1.3.1\n",
      "✔ infer        1.0.8     ✔ tune         1.3.0\n",
      "✔ modeldata    1.4.0     ✔ workflows    1.2.0\n",
      "✔ parsnip      1.3.1     ✔ workflowsets 1.1.0\n",
      "✔ purrr        1.0.4     ✔ yardstick    1.3.2"
     ]
    },
    {
     "output_type": "stream",
     "name": "stderr",
     "text": [
      "── Conflicts ───────────────────────────────────────── tidymodels_conflicts() ──\n",
      "✖ purrr::discard() masks scales::discard()\n",
      "✖ dplyr::filter()  masks stats::filter()\n",
      "✖ dplyr::lag()     masks stats::lag()\n",
      "✖ recipes::step()  masks stats::step()"
     ]
    },
    {
     "output_type": "stream",
     "name": "stderr",
     "text": [
      "\n",
      "Attaching package: 'readr'"
     ]
    },
    {
     "output_type": "stream",
     "name": "stderr",
     "text": [
      "The following object is masked from 'package:yardstick':\n",
      "\n",
      "    spec"
     ]
    },
    {
     "output_type": "stream",
     "name": "stderr",
     "text": [
      "The following object is masked from 'package:scales':\n",
      "\n",
      "    col_factor"
     ]
    }
   ],
   "source": [
    "library(tidymodels)"
   ],
   "id": "2d6b6003-0d73-4c2c-96d6-2d5e5a9668bf"
  },
  {
   "cell_type": "markdown",
   "metadata": {},
   "source": [
    "Load the full dataset from the Surging for Science project, also clean the variables names so they use `snake_case` and skip superfluous metadata. Character predictors are converter to type `factor` for compatibility with recipes."
   ],
   "id": "38b867de-1b2a-47ac-b2b5-ffcc0f001953"
  },
  {
   "cell_type": "code",
   "execution_count": null,
   "metadata": {},
   "outputs": [],
   "source": [
    "plastics <- read_csv(\"data/surfingforscience_240325.csv\",\n",
    "                     col_types = cols(\n",
    "                       Particle_Num = col_skip(), \n",
    "                       Cruise_Name = col_skip(), Transect = col_skip(), \n",
    "                       Replicate = col_skip(), Sieve = col_skip(), \n",
    "                       Subsample = col_skip(), File_Name = col_skip(), \n",
    "                       Modified = col_skip(), ImageType = col_skip())) |> \n",
    "janitor::clean_names() |> \n",
    "mutate_if(is.character, as.factor)"
   ],
   "id": "6e3cbfab-6f4a-4604-8be5-b4df386fa9e5"
  },
  {
   "cell_type": "markdown",
   "metadata": {},
   "source": [
    "The aim of this notebook is to evaluate performance of different models following the [tidymodels](https://www.tidymodels.org/) workflow. To evaluate performance we need plastics that have been evaluated manually so we can compare the trained human observer with the AI. A *good* model is the one that gets us very similar results to the trained human.\n",
    "\n",
    "Subset the data to get all plastics evaluated by a human observer."
   ],
   "id": "0b918e6d-c6ff-415b-8b68-37bf70aa7b1d"
  },
  {
   "cell_type": "code",
   "execution_count": null,
   "metadata": {},
   "outputs": [],
   "source": [
    "plastics_manual <- plastics |> filter(rf_use == FALSE)"
   ],
   "id": "7617611f-5c06-45e4-82ad-ef370f89d020"
  },
  {
   "cell_type": "markdown",
   "metadata": {},
   "source": [
    "Overall, the model currently in use had a 58.9% success rate."
   ],
   "id": "3e670efd-1b47-47af-807b-f00499ac69f5"
  },
  {
   "cell_type": "code",
   "execution_count": null,
   "metadata": {},
   "outputs": [
    {
     "output_type": "stream",
     "name": "stdout",
     "text": [
      "# A tibble: 2 × 3\n",
      "  rf_success     n  prop\n",
      "  <lgl>      <int> <dbl>\n",
      "1 FALSE      23656 0.411\n",
      "2 TRUE       33857 0.589"
     ]
    }
   ],
   "source": [
    "plastics_manual |> \n",
    "  count(rf_success = as.character(group) == as.character(rf_group)) |> \n",
    "  mutate(prop = n/sum(n))"
   ],
   "id": "5ff5a284-6ebc-4e17-a11b-d195e1a2a06f"
  },
  {
   "cell_type": "markdown",
   "metadata": {},
   "source": [
    "Remove all variables related to the current model"
   ],
   "id": "94fdb791-def6-4a19-9010-2e74c9f5ce0e"
  },
  {
   "cell_type": "code",
   "execution_count": null,
   "metadata": {},
   "outputs": [],
   "source": [
    "plastics_manual <- plastics_manual |> \n",
    "  select(-starts_with(\"prob\"), -starts_with(\"rf\"))"
   ],
   "id": "19d9c851-5763-4a46-beb8-d808c0c6473a"
  },
  {
   "cell_type": "markdown",
   "metadata": {},
   "source": [
    "Before fitting new models, data splitting is done to avoid training and evaluating the model with the same set of data. If so was done, the performance results would be overly optimistic due to overfitting. The training dataset is intended to have plastics of all types in similar proportion, this is achieved by setting the argument `strata = group`."
   ],
   "id": "56576ced-3d76-4d0e-976a-d76a3cc1b4ef"
  },
  {
   "cell_type": "code",
   "execution_count": null,
   "metadata": {},
   "outputs": [],
   "source": [
    "plastics_split <- plastics_manual |> initial_split(prop = 3/4, strata = group)"
   ],
   "id": "3faba3ff-f8f2-4475-b721-30b979a0c04c"
  },
  {
   "cell_type": "markdown",
   "metadata": {},
   "source": [
    "After checking the relative group composition of our training set we observe that some groups are very rare: `Fibre.bundle`, `Paint.chip` and `NA.Other`"
   ],
   "id": "58affd80-2a1c-42a8-a46b-e55001511ed7"
  },
  {
   "cell_type": "code",
   "execution_count": null,
   "metadata": {},
   "outputs": [
    {
     "output_type": "stream",
     "name": "stdout",
     "text": [
      "# A tibble: 11 × 3\n",
      "   group                  n      prop\n",
      "   <fct>              <int>     <dbl>\n",
      " 1 Artificial.turf      847 0.0196   \n",
      " 2 Fibre                107 0.00248  \n",
      " 3 Fibre.bundle           7 0.000162 \n",
      " 4 Filament             845 0.0196   \n",
      " 5 Film.Sheet         11088 0.257    \n",
      " 6 Foam                3602 0.0835   \n",
      " 7 Fragment           26176 0.607    \n",
      " 8 NA.Other              37 0.000858 \n",
      " 9 Paint.chip             1 0.0000232\n",
      "10 Pellet               142 0.00329  \n",
      "11 Spherule.Microbead   282 0.00654  "
     ]
    }
   ],
   "source": [
    "train_plastics <- training(plastics_split)\n",
    "test_plastics <- testing(plastics_split)\n",
    "\n",
    "train_plastics |> count(group) |> mutate(prop = n/sum(n))"
   ],
   "id": "59d78a13-9d61-47dc-9290-2dc227a4f62f"
  },
  {
   "cell_type": "markdown",
   "metadata": {},
   "source": [
    "# Preprocessin using recipes\n",
    "\n",
    "Let’s initialize a simple recipe for our first model"
   ],
   "id": "af07b8ee-713a-4e47-bf70-c9e6d16d6c45"
  },
  {
   "cell_type": "code",
   "execution_count": null,
   "metadata": {},
   "outputs": [],
   "source": [
    "plastics_recipe <- train_plastics |> recipe(group ~ .) |> \n",
    "  step_dummy(all_nominal_predictors()) |> \n",
    "  step_zv(all_predictors())"
   ],
   "id": "8d7a4854-5979-4442-9c8f-6c77d8769b84"
  },
  {
   "cell_type": "markdown",
   "metadata": {},
   "source": [
    "Next, define a random forest model of 1000 trees using the `ranger` engine."
   ],
   "id": "bbf111b8-b4ef-4aff-9b9e-65fa7888db55"
  },
  {
   "cell_type": "code",
   "execution_count": null,
   "metadata": {},
   "outputs": [],
   "source": [
    "rf_mod <- \n",
    "  rand_forest(trees = 100) |> \n",
    "  set_engine(\"ranger\") |> \n",
    "  set_mode(\"classification\")"
   ],
   "id": "52ebce76-9175-4e60-8297-10fd95af8f62"
  },
  {
   "cell_type": "markdown",
   "metadata": {},
   "source": [
    "Create a modelling workflow that combines the model and the recipe"
   ],
   "id": "4c1a0dd6-9ed2-498a-919f-4f7c7f9fcd3f"
  },
  {
   "cell_type": "code",
   "execution_count": null,
   "metadata": {},
   "outputs": [],
   "source": [
    "plastics_wflow <- workflow() |> add_model(rf_mod) |> add_recipe(plastics_recipe)"
   ],
   "id": "0a046b9c-0c1b-4b56-843c-1802f7ead365"
  },
  {
   "cell_type": "markdown",
   "metadata": {},
   "source": [
    "Fit the workflow to the training data\n",
    "\n",
    "> **Warning**\n",
    ">\n",
    "> Heavy computation ahead"
   ],
   "id": "fc828eed-10c1-4ca4-837f-a046766fc6af"
  },
  {
   "cell_type": "code",
   "execution_count": null,
   "metadata": {},
   "outputs": [],
   "source": [
    "rf_fit <- plastics_wflow |> fit(data = train_plastics)"
   ],
   "id": "7bbbf53c-3d33-4668-bd13-708df6b6a50c"
  },
  {
   "cell_type": "markdown",
   "metadata": {},
   "source": [
    "Let’s see how it went"
   ],
   "id": "e902b032-1897-4c0c-bcb6-46614b43cf4b"
  },
  {
   "cell_type": "code",
   "execution_count": null,
   "metadata": {},
   "outputs": [
    {
     "output_type": "stream",
     "name": "stdout",
     "text": [
      "parsnip model object\n",
      "\n",
      "Ranger result\n",
      "\n",
      "Call:\n",
      " ranger::ranger(x = maybe_data_frame(x), y = y, num.trees = ~100,      num.threads = 1, verbose = FALSE, seed = sample.int(10^5,          1), probability = TRUE) \n",
      "\n",
      "Type:                             Probability estimation \n",
      "Number of trees:                  100 \n",
      "Sample size:                      43134 \n",
      "Number of independent variables:  152 \n",
      "Mtry:                             12 \n",
      "Target node size:                 10 \n",
      "Variable importance mode:         none \n",
      "Splitrule:                        gini \n",
      "OOB prediction error (Brier s.):  0.2001236 "
     ]
    }
   ],
   "source": [
    "rf_fit |> extract_fit_parsnip()"
   ],
   "id": "dbb25f59-0e04-4f2b-af48-dbc95d7a69aa"
  },
  {
   "cell_type": "markdown",
   "metadata": {},
   "source": [
    "# Evaluating performance using resamples\n",
    "\n",
    "Lets create a 10 fold cross validation resample"
   ],
   "id": "85b821ed-40bb-4297-bcfc-21e20cf178ae"
  },
  {
   "cell_type": "code",
   "execution_count": null,
   "metadata": {},
   "outputs": [],
   "source": [
    "set.seed(567)\n",
    "folds <- train_plastics |> vfold_cv(v = 4)"
   ],
   "id": "8739123f-bab3-4179-a8de-78e994d997bc"
  },
  {
   "cell_type": "markdown",
   "metadata": {},
   "source": [
    "Now fit the workflow to the resamples\n",
    "\n",
    "> **Warning**\n",
    ">\n",
    "> Heavy computation ahead"
   ],
   "id": "f3913dec-2aef-47c7-b08e-25e88f0e9714"
  },
  {
   "cell_type": "code",
   "execution_count": null,
   "metadata": {},
   "outputs": [
    {
     "output_type": "stream",
     "name": "stderr",
     "text": [
      "→ A | warning: Dropped unused factor level(s) in dependent variable: Paint.chip."
     ]
    },
    {
     "output_type": "stream",
     "name": "stderr",
     "text": [
      "There were issues with some computations   A: x1"
     ]
    },
    {
     "output_type": "stream",
     "name": "stderr",
     "text": [
      "→ B | error:   Failed to compute `roc_auc()`.\n",
      "               Caused by error:\n",
      "               ! Can't select columns that don't exist.\n",
      "               ✖ Column `.pred_Paint.chip` doesn't exist."
     ]
    },
    {
     "output_type": "stream",
     "name": "stderr",
     "text": [
      "There were issues with some computations   A: x1\n",
      "There were issues with some computations   A: x1   B: x1\n",
      "→ C | warning: ✖ No observations were detected in `truth` for level: Paint.chip.\n",
      "               ℹ Computation will proceed by ignoring those levels.\n",
      "There were issues with some computations   A: x1   B: x1\n",
      "There were issues with some computations   A: x1   B: x1   C: x1\n",
      "There were issues with some computations   A: x1   B: x1   C: x2\n",
      "There were issues with some computations   A: x1   B: x1   C: x3\n",
      "There were issues with some computations   A: x1   B: x1   C: x3"
     ]
    }
   ],
   "source": [
    "set.seed(311)\n",
    "rf_fit_rs <- plastics_wflow |> fit_resamples(folds)"
   ],
   "id": "5e7196ab-acf3-4e63-98bc-594fc2b80c6d"
  },
  {
   "cell_type": "markdown",
   "metadata": {},
   "source": [
    "Finally, collect the metrics and see how it did"
   ],
   "id": "c1986a3f-b580-4e26-9e33-33a3242885be"
  },
  {
   "cell_type": "code",
   "execution_count": null,
   "metadata": {},
   "outputs": [
    {
     "output_type": "stream",
     "name": "stdout",
     "text": [
      "# A tibble: 3 × 6\n",
      "  .metric     .estimator  mean     n  std_err .config             \n",
      "  <chr>       <chr>      <dbl> <int>    <dbl> <chr>               \n",
      "1 accuracy    multiclass 0.762     3 0.00227  Preprocessor1_Model1\n",
      "2 brier_class multiclass 0.172     3 0.000966 Preprocessor1_Model1\n",
      "3 roc_auc     hand_till  0.863     3 0.00977  Preprocessor1_Model1"
     ]
    }
   ],
   "source": [
    "rf_fit_rs |> collect_metrics()"
   ],
   "id": "0fe8b306-ba7f-4a81-8692-2e54c637187f"
  }
 ],
 "nbformat": 4,
 "nbformat_minor": 5,
 "metadata": {}
}
