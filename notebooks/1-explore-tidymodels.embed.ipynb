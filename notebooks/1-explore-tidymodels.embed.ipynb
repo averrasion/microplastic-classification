{
 "cells": [
  {
   "cell_type": "markdown",
   "metadata": {},
   "source": [
    "# Exploration using Tidymodels\n",
    "\n",
    "# The Surfing for Science data base\n",
    "\n",
    "Load the `tidymodels` library along with other useful ones:"
   ],
   "id": "6a36eee7-ea4e-480e-9e91-657f0d73daf0"
  },
  {
   "cell_type": "code",
   "execution_count": null,
   "metadata": {},
   "outputs": [
    {
     "output_type": "stream",
     "name": "stderr",
     "text": [
      "── Attaching packages ────────────────────────────────────── tidymodels 1.3.0 ──"
     ]
    },
    {
     "output_type": "stream",
     "name": "stderr",
     "text": [
      "✔ broom        1.0.8     ✔ recipes      1.3.0\n",
      "✔ dials        1.4.0     ✔ rsample      1.3.0\n",
      "✔ dplyr        1.1.4     ✔ tibble       3.2.1\n",
      "✔ ggplot2      3.5.2     ✔ tidyr        1.3.1\n",
      "✔ infer        1.0.8     ✔ tune         1.3.0\n",
      "✔ modeldata    1.4.0     ✔ workflows    1.2.0\n",
      "✔ parsnip      1.3.1     ✔ workflowsets 1.1.0\n",
      "✔ purrr        1.0.4     ✔ yardstick    1.3.2"
     ]
    },
    {
     "output_type": "stream",
     "name": "stderr",
     "text": [
      "── Conflicts ───────────────────────────────────────── tidymodels_conflicts() ──\n",
      "✖ purrr::discard() masks scales::discard()\n",
      "✖ dplyr::filter()  masks stats::filter()\n",
      "✖ dplyr::lag()     masks stats::lag()\n",
      "✖ recipes::step()  masks stats::step()"
     ]
    },
    {
     "output_type": "stream",
     "name": "stderr",
     "text": [
      "\n",
      "Attaching package: 'readr'"
     ]
    },
    {
     "output_type": "stream",
     "name": "stderr",
     "text": [
      "The following object is masked from 'package:yardstick':\n",
      "\n",
      "    spec"
     ]
    },
    {
     "output_type": "stream",
     "name": "stderr",
     "text": [
      "The following object is masked from 'package:scales':\n",
      "\n",
      "    col_factor"
     ]
    }
   ],
   "source": [
    "library(tidymodels)"
   ],
   "id": "58c3c990-0ddf-4cef-91ca-1c7ab92b9ee3"
  },
  {
   "cell_type": "markdown",
   "metadata": {},
   "source": [
    "Load the full dataset from the Surging for Science project, also clean the variables names so they use `snake_case` and skip superfluous metadata. Character predictors are converter to type `factor` for compatibility with recipes."
   ],
   "id": "4ac7c4f5-b31b-4765-adbd-1ce89e8ea8b0"
  },
  {
   "cell_type": "code",
   "execution_count": null,
   "metadata": {},
   "outputs": [],
   "source": [
    "plastics <- read_csv(\"data/surfingforscience_240325.csv\",\n",
    "                     col_types = cols(\n",
    "                       Particle_Num = col_skip(), \n",
    "                       Cruise_Name = col_skip(), Transect = col_skip(), \n",
    "                       Replicate = col_skip(), Sieve = col_skip(), \n",
    "                       Subsample = col_skip(), File_Name = col_skip(), \n",
    "                       Modified = col_skip(), ImageType = col_skip())) |> \n",
    "janitor::clean_names() |> \n",
    "mutate_if(is.character, as.factor)"
   ],
   "id": "59b88eb4-72a0-448c-bf94-cbad9f059e6c"
  },
  {
   "cell_type": "markdown",
   "metadata": {},
   "source": [
    "The aim of this notebook is to evaluate performance of different models following the [tidymodels](https://www.tidymodels.org/) workflow. To evaluate performance we need plastics that have been evaluated manually so we can compare the trained human observer with the AI. A *good* model is the one that gets us very similar results to the trained human.\n",
    "\n",
    "Subset the data to get all plastics evaluated by a human observer."
   ],
   "id": "a2f9de09-a859-4a89-9919-eaa49bbea5ad"
  },
  {
   "cell_type": "code",
   "execution_count": null,
   "metadata": {},
   "outputs": [],
   "source": [
    "plastics_manual <- plastics |> filter(rf_use == FALSE)"
   ],
   "id": "04fbc0d5-8cff-4ac4-b6d5-56172f0e0ee9"
  },
  {
   "cell_type": "markdown",
   "metadata": {},
   "source": [
    "Overall, the model currently in use had a 58.9% success rate."
   ],
   "id": "8fd23380-8766-4282-8033-e0180ad45ef1"
  },
  {
   "cell_type": "code",
   "execution_count": null,
   "metadata": {},
   "outputs": [
    {
     "output_type": "stream",
     "name": "stdout",
     "text": [
      "# A tibble: 2 × 3\n",
      "  rf_success     n  prop\n",
      "  <lgl>      <int> <dbl>\n",
      "1 FALSE      23656 0.411\n",
      "2 TRUE       33857 0.589"
     ]
    }
   ],
   "source": [
    "plastics_manual |> \n",
    "  count(rf_success = as.character(group) == as.character(rf_group)) |> \n",
    "  mutate(prop = n/sum(n))"
   ],
   "id": "4a4e101d-80e3-4258-8fca-6c7dbf2d509b"
  },
  {
   "cell_type": "markdown",
   "metadata": {},
   "source": [
    "Remove all variables related to the current model"
   ],
   "id": "d35129cc-6a60-4409-bf9b-0028ea059159"
  },
  {
   "cell_type": "code",
   "execution_count": null,
   "metadata": {},
   "outputs": [],
   "source": [
    "plastics_manual <- plastics_manual |> \n",
    "  select(-starts_with(\"prob\"), -starts_with(\"rf\"))"
   ],
   "id": "9265c5f1-51bc-4349-a89f-b9285d8ada35"
  },
  {
   "cell_type": "markdown",
   "metadata": {},
   "source": [
    "Before fitting new models, data splitting is done to avoid training and evaluating the model with the same set of data. If so was done, the performance results would be overly optimistic due to overfitting. The training dataset is intended to have plastics of all types in similar proportion, this is achieved by setting the argument `strata = group`."
   ],
   "id": "791fafbc-0c74-4ed8-ba50-4fcf8ac93b4e"
  },
  {
   "cell_type": "code",
   "execution_count": null,
   "metadata": {},
   "outputs": [],
   "source": [
    "plastics_split <- plastics_manual |> initial_split(prop = 3/4, strata = group)"
   ],
   "id": "2af26e8a-4372-4ad4-a7a4-e8b2b7e88728"
  },
  {
   "cell_type": "markdown",
   "metadata": {},
   "source": [
    "After checking the relative group composition of our training set we observe that some groups are very rare: `Fibre.bundle`, `Paint.chip` and `NA.Other`"
   ],
   "id": "c2fbd79f-8378-4c5a-986f-a22a7a4076b3"
  },
  {
   "cell_type": "code",
   "execution_count": null,
   "metadata": {},
   "outputs": [
    {
     "output_type": "stream",
     "name": "stdout",
     "text": [
      "# A tibble: 11 × 3\n",
      "   group                  n      prop\n",
      "   <fct>              <int>     <dbl>\n",
      " 1 Artificial.turf      847 0.0196   \n",
      " 2 Fibre                107 0.00248  \n",
      " 3 Fibre.bundle           7 0.000162 \n",
      " 4 Filament             845 0.0196   \n",
      " 5 Film.Sheet         11088 0.257    \n",
      " 6 Foam                3602 0.0835   \n",
      " 7 Fragment           26176 0.607    \n",
      " 8 NA.Other              37 0.000858 \n",
      " 9 Paint.chip             1 0.0000232\n",
      "10 Pellet               142 0.00329  \n",
      "11 Spherule.Microbead   282 0.00654  "
     ]
    }
   ],
   "source": [
    "train_plastics <- training(plastics_split)\n",
    "test_plastics <- testing(plastics_split)\n",
    "\n",
    "train_plastics |> count(group) |> mutate(prop = n/sum(n))"
   ],
   "id": "e64fdb05-b6f9-40e5-97d0-945b0925b639"
  },
  {
   "cell_type": "markdown",
   "metadata": {},
   "source": [
    "# Preprocessin using recipes\n",
    "\n",
    "Let’s initialize a simple recipe for our first model"
   ],
   "id": "f4a9ae83-5c87-4209-89af-ca21e4293653"
  },
  {
   "cell_type": "code",
   "execution_count": null,
   "metadata": {},
   "outputs": [],
   "source": [
    "plastics_recipe <- train_plastics |> recipe(group ~ .) |> \n",
    "  step_dummy(all_nominal_predictors()) |> \n",
    "  step_zv(all_predictors())"
   ],
   "id": "24937df5-c38b-4d16-932f-c3730bbb9916"
  },
  {
   "cell_type": "markdown",
   "metadata": {},
   "source": [
    "Next, define a random forest model of 1000 trees using the `ranger` engine."
   ],
   "id": "12e86b28-e31a-428c-bd8d-4a046dcc3d83"
  },
  {
   "cell_type": "code",
   "execution_count": null,
   "metadata": {},
   "outputs": [],
   "source": [
    "rf_mod <- \n",
    "  rand_forest(trees = 100) |> \n",
    "  set_engine(\"ranger\") |> \n",
    "  set_mode(\"classification\")"
   ],
   "id": "300ee86a-8d67-4ce0-9e60-4497c5c7c1ba"
  },
  {
   "cell_type": "markdown",
   "metadata": {},
   "source": [
    "Create a modelling workflow that combines the model and the recipe"
   ],
   "id": "1dabe990-709e-4c81-87b8-f59513a9c28b"
  },
  {
   "cell_type": "code",
   "execution_count": null,
   "metadata": {},
   "outputs": [],
   "source": [
    "plastics_wflow <- workflow() |> add_model(rf_mod) |> add_recipe(plastics_recipe)"
   ],
   "id": "67dd9db6-3dee-4c2d-afd2-192a1f468a9c"
  },
  {
   "cell_type": "markdown",
   "metadata": {},
   "source": [
    "Fit the workflow to the training data\n",
    "\n",
    "> **Warning**\n",
    ">\n",
    "> Heavy computation ahead"
   ],
   "id": "b2f28f1c-f2c5-4a88-bf68-89edb551e983"
  },
  {
   "cell_type": "code",
   "execution_count": null,
   "metadata": {},
   "outputs": [],
   "source": [
    "rf_fit <- plastics_wflow |> fit(data = train_plastics)"
   ],
   "id": "0b79be5e-d0b3-483f-ba07-b4eacf1f17bb"
  },
  {
   "cell_type": "markdown",
   "metadata": {},
   "source": [
    "Let’s see how it went"
   ],
   "id": "673eea1d-8876-459f-951d-3b89e8f99c14"
  },
  {
   "cell_type": "code",
   "execution_count": null,
   "metadata": {},
   "outputs": [
    {
     "output_type": "stream",
     "name": "stdout",
     "text": [
      "parsnip model object\n",
      "\n",
      "Ranger result\n",
      "\n",
      "Call:\n",
      " ranger::ranger(x = maybe_data_frame(x), y = y, num.trees = ~100,      num.threads = 1, verbose = FALSE, seed = sample.int(10^5,          1), probability = TRUE) \n",
      "\n",
      "Type:                             Probability estimation \n",
      "Number of trees:                  100 \n",
      "Sample size:                      43134 \n",
      "Number of independent variables:  152 \n",
      "Mtry:                             12 \n",
      "Target node size:                 10 \n",
      "Variable importance mode:         none \n",
      "Splitrule:                        gini \n",
      "OOB prediction error (Brier s.):  0.2001236 "
     ]
    }
   ],
   "source": [
    "rf_fit |> extract_fit_parsnip()"
   ],
   "id": "e9b79c5e-784c-4cfc-bb8a-368e7e472873"
  },
  {
   "cell_type": "markdown",
   "metadata": {},
   "source": [
    "# Evaluating performance using resamples\n",
    "\n",
    "Lets create a 10 fold cross validation resample"
   ],
   "id": "13ca5d18-3285-44fb-bf9d-0e22813c10b1"
  },
  {
   "cell_type": "code",
   "execution_count": null,
   "metadata": {},
   "outputs": [],
   "source": [
    "set.seed(567)\n",
    "folds <- train_plastics |> vfold_cv(v = 4)"
   ],
   "id": "ff2c5ce9-3018-4c0f-bc85-4036d9f2e59a"
  },
  {
   "cell_type": "markdown",
   "metadata": {},
   "source": [
    "Now fit the workflow to the resamples\n",
    "\n",
    "> **Warning**\n",
    ">\n",
    "> Heavy computation ahead"
   ],
   "id": "13bc865d-422c-4a2d-b09c-549ec3fe40af"
  },
  {
   "cell_type": "code",
   "execution_count": null,
   "metadata": {},
   "outputs": [
    {
     "output_type": "stream",
     "name": "stderr",
     "text": [
      "→ A | warning: Dropped unused factor level(s) in dependent variable: Paint.chip."
     ]
    },
    {
     "output_type": "stream",
     "name": "stderr",
     "text": [
      "There were issues with some computations   A: x1"
     ]
    },
    {
     "output_type": "stream",
     "name": "stderr",
     "text": [
      "→ B | error:   Failed to compute `roc_auc()`.\n",
      "               Caused by error:\n",
      "               ! Can't select columns that don't exist.\n",
      "               ✖ Column `.pred_Paint.chip` doesn't exist."
     ]
    },
    {
     "output_type": "stream",
     "name": "stderr",
     "text": [
      "There were issues with some computations   A: x1\n",
      "There were issues with some computations   A: x1   B: x1\n",
      "→ C | warning: ✖ No observations were detected in `truth` for level: Paint.chip.\n",
      "               ℹ Computation will proceed by ignoring those levels.\n",
      "There were issues with some computations   A: x1   B: x1\n",
      "There were issues with some computations   A: x1   B: x1   C: x1\n",
      "There were issues with some computations   A: x1   B: x1   C: x2\n",
      "There were issues with some computations   A: x1   B: x1   C: x3\n",
      "There were issues with some computations   A: x1   B: x1   C: x3"
     ]
    }
   ],
   "source": [
    "set.seed(311)\n",
    "rf_fit_rs <- plastics_wflow |> fit_resamples(folds)"
   ],
   "id": "7a944e06-6958-416a-8df7-f61b5dd858ae"
  },
  {
   "cell_type": "markdown",
   "metadata": {},
   "source": [
    "Finally, collect the metrics and see how it did"
   ],
   "id": "fb8c9c5a-ffe2-421c-ad24-371f8e2d89f6"
  },
  {
   "cell_type": "code",
   "execution_count": null,
   "metadata": {},
   "outputs": [
    {
     "output_type": "stream",
     "name": "stdout",
     "text": [
      "# A tibble: 3 × 6\n",
      "  .metric     .estimator  mean     n  std_err .config             \n",
      "  <chr>       <chr>      <dbl> <int>    <dbl> <chr>               \n",
      "1 accuracy    multiclass 0.762     3 0.00227  Preprocessor1_Model1\n",
      "2 brier_class multiclass 0.172     3 0.000966 Preprocessor1_Model1\n",
      "3 roc_auc     hand_till  0.863     3 0.00977  Preprocessor1_Model1"
     ]
    }
   ],
   "source": [
    "rf_fit_rs |> collect_metrics()"
   ],
   "id": "ae537723-7cd8-4729-8360-94aff5661779"
  }
 ],
 "nbformat": 4,
 "nbformat_minor": 5,
 "metadata": {}
}
